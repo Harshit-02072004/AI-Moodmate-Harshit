{
 "cells": [
  {
   "cell_type": "markdown",
   "id": "376cafa3",
   "metadata": {},
   "source": [
    "##      Setup and Installation"
   ]
  },
  {
   "cell_type": "code",
   "execution_count": 2,
   "id": "08d006cd",
   "metadata": {},
   "outputs": [
    {
     "name": "stdout",
     "output_type": "stream",
     "text": [
      "Requirement already satisfied: nltk in c:\\users\\yashu\\appdata\\local\\programs\\python\\python312\\lib\\site-packages (3.8.1)\n",
      "Requirement already satisfied: pandas in c:\\users\\yashu\\appdata\\local\\programs\\python\\python312\\lib\\site-packages (2.2.1)\n",
      "Requirement already satisfied: click in c:\\users\\yashu\\appdata\\local\\programs\\python\\python312\\lib\\site-packages (from nltk) (8.1.7)\n",
      "Requirement already satisfied: joblib in c:\\users\\yashu\\appdata\\local\\programs\\python\\python312\\lib\\site-packages (from nltk) (1.4.2)\n",
      "Requirement already satisfied: regex>=2021.8.3 in c:\\users\\yashu\\appdata\\local\\programs\\python\\python312\\lib\\site-packages (from nltk) (2024.5.15)\n",
      "Requirement already satisfied: tqdm in c:\\users\\yashu\\appdata\\local\\programs\\python\\python312\\lib\\site-packages (from nltk) (4.66.4)\n",
      "Requirement already satisfied: numpy<2,>=1.26.0 in c:\\users\\yashu\\appdata\\local\\programs\\python\\python312\\lib\\site-packages (from pandas) (1.26.4)\n",
      "Requirement already satisfied: python-dateutil>=2.8.2 in c:\\users\\yashu\\appdata\\local\\programs\\python\\python312\\lib\\site-packages (from pandas) (2.9.0.post0)\n",
      "Requirement already satisfied: pytz>=2020.1 in c:\\users\\yashu\\appdata\\local\\programs\\python\\python312\\lib\\site-packages (from pandas) (2024.1)\n",
      "Requirement already satisfied: tzdata>=2022.7 in c:\\users\\yashu\\appdata\\local\\programs\\python\\python312\\lib\\site-packages (from pandas) (2024.1)\n",
      "Requirement already satisfied: six>=1.5 in c:\\users\\yashu\\appdata\\local\\programs\\python\\python312\\lib\\site-packages (from python-dateutil>=2.8.2->pandas) (1.16.0)\n",
      "Requirement already satisfied: colorama in c:\\users\\yashu\\appdata\\local\\programs\\python\\python312\\lib\\site-packages (from click->nltk) (0.4.6)\n",
      "Note: you may need to restart the kernel to use updated packages.\n",
      "✅ Setup Complete!\n"
     ]
    },
    {
     "name": "stderr",
     "output_type": "stream",
     "text": [
      "[nltk_data] Downloading package vader_lexicon to\n",
      "[nltk_data]     C:\\Users\\yashu\\AppData\\Roaming\\nltk_data...\n",
      "[nltk_data]   Package vader_lexicon is already up-to-date!\n"
     ]
    }
   ],
   "source": [
    "%pip install nltk pandas\n",
    "\n",
    "import nltk\n",
    "import pandas as pd\n",
    "import random\n",
    "\n",
    "# Download the VADER lexicon (only needed on the first run)\n",
    "nltk.download('vader_lexicon')\n",
    "\n",
    "# Import and create an instance of the VADER analyzer\n",
    "from nltk.sentiment.vader import SentimentIntensityAnalyzer\n",
    "sia = SentimentIntensityAnalyzer()\n",
    "\n",
    "print(\"✅ Setup Complete!\")"
   ]
  },
  {
   "cell_type": "markdown",
   "id": "2ca87ba7",
   "metadata": {},
   "source": [
    "##  Load and Prepare the Song Database"
   ]
  },
  {
   "cell_type": "code",
   "execution_count": 3,
   "id": "0f988a09",
   "metadata": {},
   "outputs": [
    {
     "name": "stdout",
     "output_type": "stream",
     "text": [
      "🎵 Song Database Loaded Successfully!\n",
      "Total songs in the database: 170653\n"
     ]
    }
   ],
   "source": [
    "# Load the main dataset\n",
    "try:\n",
    "    df = pd.read_csv('data.csv')\n",
    "    \n",
    "    # Clean up the 'artists' column to make it more readable\n",
    "    # It's currently a string that looks like a list, e.g., \"['Artist Name']\"\n",
    "    # We will remove the brackets and quotes.\n",
    "    df['artists'] = df['artists'].str.replace(r\"[\\[\\]']\", \"\", regex=True)\n",
    "\n",
    "    print(\"🎵 Song Database Loaded Successfully!\")\n",
    "    print(f\"Total songs in the database: {len(df)}\")\n",
    "    \n",
    "except FileNotFoundError:\n",
    "    print(\"❌ Error: 'data.csv' not found. Please make sure the file is uploaded.\")"
   ]
  },
  {
   "cell_type": "markdown",
   "id": "92f4de9e",
   "metadata": {},
   "source": [
    "##  Define the Database-Driven Recommendation Function"
   ]
  },
  {
   "cell_type": "code",
   "execution_count": 4,
   "id": "8123c86d",
   "metadata": {},
   "outputs": [
    {
     "name": "stdout",
     "output_type": "stream",
     "text": [
      "🧠 Database-driven analysis function is ready.\n"
     ]
    }
   ],
   "source": [
    "def get_song_suggestion_from_db(text):\n",
    "\n",
    "    score_dict = sia.polarity_scores(text)\n",
    "    compound_score = score_dict['compound']\n",
    "\n",
    "\n",
    "    # Determine the sentiment category and corresponding valence range\n",
    "    if compound_score <= -0.6:\n",
    "        sentiment = \"Very Sad 😭\"\n",
    "        valence_range = (0, 0.2)\n",
    "    elif -0.6 < compound_score <= -0.2:\n",
    "        sentiment = \"Sad 😔\"\n",
    "        valence_range = (0.2, 0.4)\n",
    "    elif -0.2 < compound_score < 0.2:\n",
    "        sentiment = \"Neutral 😐\"\n",
    "        valence_range = (0.4, 0.6)\n",
    "    elif 0.2 <= compound_score < 0.6:\n",
    "        sentiment = \"Happy 😊\"\n",
    "        valence_range = (0.6, 0.8)\n",
    "    else: # compound_score >= 0.6\n",
    "        sentiment = \"Very Happy 😄\"\n",
    "        valence_range = (0.8, 1.0)\n",
    "        \n",
    "\n",
    "    # Filter the DataFrame to find songs in the desired valence range\n",
    "    filtered_songs = df[(df['valence'] >= valence_range[0]) & (df['valence'] <= valence_range[1])]\n",
    "    \n",
    "\n",
    "    # If songs are found, pick a random one. Otherwise, handle the case where no songs match.\n",
    "    if not filtered_songs.empty:\n",
    "        # Select a random song from the filtered list\n",
    "        suggested_song = filtered_songs.sample(n=1).iloc[0]\n",
    "        song_info = {\n",
    "            \"artist\": suggested_song['artists'],\n",
    "            \"title\": suggested_song['name']\n",
    "        }\n",
    "    else:\n",
    "        song_info = {\"artist\": \"N/A\", \"title\": \"No song found for this mood in the database.\"}\n",
    "\n",
    "\n",
    "    return {\n",
    "        \"sentiment\": sentiment,\n",
    "        \"score\": compound_score,\n",
    "        \"song\": song_info\n",
    "    }\n",
    "\n",
    "print(\"🧠 Database-driven analysis function is ready.\")"
   ]
  },
  {
   "cell_type": "markdown",
   "id": "fca9454c",
   "metadata": {},
   "source": [
    "## User Input and Final Output"
   ]
  },
  {
   "cell_type": "code",
   "execution_count": 7,
   "id": "8efc7a62",
   "metadata": {},
   "outputs": [
    {
     "name": "stdout",
     "output_type": "stream",
     "text": [
      "\n",
      "-------------------------------------\n",
      "Sentiment Analysis: Neutral 😐\n",
      "Sentiment Score: 0.13\n",
      "-------------------------------------\n",
      "✨ Song Suggestion For You ✨\n",
      "'Gonna Fly Now' by Bill Conti\n",
      "-------------------------------------\n"
     ]
    }
   ],
   "source": [
    "# Get input from the user\n",
    "user_text = input(\"How are you feeling today? Describe it in a few words: \")\n",
    "\n",
    "# Get the analysis and suggestion from the database\n",
    "result = get_song_suggestion_from_db(user_text)\n",
    "\n",
    "# Print the results in a user-friendly format\n",
    "print(\"\\n-------------------------------------\")\n",
    "print(f\"Sentiment Analysis: {result['sentiment']}\")\n",
    "print(f\"Sentiment Score: {result['score']:.2f}\")\n",
    "print(\"-------------------------------------\")\n",
    "print(f\"✨ Song Suggestion For You ✨\")\n",
    "print(f\"'{result['song']['title']}' by {result['song']['artist']}\")\n",
    "print(\"-------------------------------------\")"
   ]
  }
 ],
 "metadata": {
  "kernelspec": {
   "display_name": "Python 3",
   "language": "python",
   "name": "python3"
  },
  "language_info": {
   "codemirror_mode": {
    "name": "ipython",
    "version": 3
   },
   "file_extension": ".py",
   "mimetype": "text/x-python",
   "name": "python",
   "nbconvert_exporter": "python",
   "pygments_lexer": "ipython3",
   "version": "3.12.2"
  }
 },
 "nbformat": 4,
 "nbformat_minor": 5
}
